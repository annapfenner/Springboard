{
 "cells": [
  {
   "cell_type": "markdown",
   "id": "659ed21b",
   "metadata": {},
   "source": [
    "# Load Data"
   ]
  },
  {
   "cell_type": "code",
   "execution_count": 1,
   "id": "798c7aaa",
   "metadata": {},
   "outputs": [],
   "source": [
    "import numpy as np\n",
    "import pandas as pd\n",
    "import matplotlib.pyplot as plt\n",
    "import seaborn as sns"
   ]
  },
  {
   "cell_type": "code",
   "execution_count": 2,
   "id": "0f87fecd",
   "metadata": {},
   "outputs": [],
   "source": [
    "#upload the data\n",
    "user_engagement = pd.read_csv('../Springboard/relax_challenge/takehome_user_engagement.csv', parse_dates= ['time_stamp'])\n",
    "users = pd.read_csv('../Springboard/relax_challenge/takehome_users.csv', encoding='latin-1', parse_dates= ['creation_time'])"
   ]
  },
  {
   "cell_type": "markdown",
   "id": "515303de",
   "metadata": {},
   "source": [
    "# Explore and clean the data"
   ]
  },
  {
   "cell_type": "code",
   "execution_count": 3,
   "id": "63b80e87",
   "metadata": {},
   "outputs": [
    {
     "name": "stdout",
     "output_type": "stream",
     "text": [
      "207917\n",
      "time_stamp    207220\n",
      "user_id         8823\n",
      "visited            1\n",
      "dtype: int64\n",
      "time_stamp    datetime64[ns]\n",
      "user_id                int64\n",
      "visited                int64\n",
      "dtype: object\n"
     ]
    },
    {
     "data": {
      "text/html": [
       "<div>\n",
       "<style scoped>\n",
       "    .dataframe tbody tr th:only-of-type {\n",
       "        vertical-align: middle;\n",
       "    }\n",
       "\n",
       "    .dataframe tbody tr th {\n",
       "        vertical-align: top;\n",
       "    }\n",
       "\n",
       "    .dataframe thead th {\n",
       "        text-align: right;\n",
       "    }\n",
       "</style>\n",
       "<table border=\"1\" class=\"dataframe\">\n",
       "  <thead>\n",
       "    <tr style=\"text-align: right;\">\n",
       "      <th></th>\n",
       "      <th>time_stamp</th>\n",
       "      <th>user_id</th>\n",
       "      <th>visited</th>\n",
       "    </tr>\n",
       "  </thead>\n",
       "  <tbody>\n",
       "    <tr>\n",
       "      <th>0</th>\n",
       "      <td>2014-04-22 03:53:30</td>\n",
       "      <td>1</td>\n",
       "      <td>1</td>\n",
       "    </tr>\n",
       "    <tr>\n",
       "      <th>1</th>\n",
       "      <td>2013-11-15 03:45:04</td>\n",
       "      <td>2</td>\n",
       "      <td>1</td>\n",
       "    </tr>\n",
       "    <tr>\n",
       "      <th>2</th>\n",
       "      <td>2013-11-29 03:45:04</td>\n",
       "      <td>2</td>\n",
       "      <td>1</td>\n",
       "    </tr>\n",
       "    <tr>\n",
       "      <th>3</th>\n",
       "      <td>2013-12-09 03:45:04</td>\n",
       "      <td>2</td>\n",
       "      <td>1</td>\n",
       "    </tr>\n",
       "    <tr>\n",
       "      <th>4</th>\n",
       "      <td>2013-12-25 03:45:04</td>\n",
       "      <td>2</td>\n",
       "      <td>1</td>\n",
       "    </tr>\n",
       "  </tbody>\n",
       "</table>\n",
       "</div>"
      ],
      "text/plain": [
       "           time_stamp  user_id  visited\n",
       "0 2014-04-22 03:53:30        1        1\n",
       "1 2013-11-15 03:45:04        2        1\n",
       "2 2013-11-29 03:45:04        2        1\n",
       "3 2013-12-09 03:45:04        2        1\n",
       "4 2013-12-25 03:45:04        2        1"
      ]
     },
     "execution_count": 3,
     "metadata": {},
     "output_type": "execute_result"
    }
   ],
   "source": [
    "print(len(user_engagement))\n",
    "print(user_engagement.nunique())\n",
    "print(user_engagement.dtypes)\n",
    "user_engagement.head()"
   ]
  },
  {
   "cell_type": "code",
   "execution_count": 4,
   "id": "3ec2d9e1",
   "metadata": {},
   "outputs": [
    {
     "name": "stdout",
     "output_type": "stream",
     "text": [
      "12000\n",
      "object_id                              int64\n",
      "creation_time                 datetime64[ns]\n",
      "name                                  object\n",
      "email                                 object\n",
      "creation_source                       object\n",
      "last_session_creation_time           float64\n",
      "opted_in_to_mailing_list               int64\n",
      "enabled_for_marketing_drip             int64\n",
      "org_id                                 int64\n",
      "invited_by_user_id                   float64\n",
      "dtype: object\n"
     ]
    },
    {
     "data": {
      "text/html": [
       "<div>\n",
       "<style scoped>\n",
       "    .dataframe tbody tr th:only-of-type {\n",
       "        vertical-align: middle;\n",
       "    }\n",
       "\n",
       "    .dataframe tbody tr th {\n",
       "        vertical-align: top;\n",
       "    }\n",
       "\n",
       "    .dataframe thead th {\n",
       "        text-align: right;\n",
       "    }\n",
       "</style>\n",
       "<table border=\"1\" class=\"dataframe\">\n",
       "  <thead>\n",
       "    <tr style=\"text-align: right;\">\n",
       "      <th></th>\n",
       "      <th>object_id</th>\n",
       "      <th>creation_time</th>\n",
       "      <th>name</th>\n",
       "      <th>email</th>\n",
       "      <th>creation_source</th>\n",
       "      <th>last_session_creation_time</th>\n",
       "      <th>opted_in_to_mailing_list</th>\n",
       "      <th>enabled_for_marketing_drip</th>\n",
       "      <th>org_id</th>\n",
       "      <th>invited_by_user_id</th>\n",
       "    </tr>\n",
       "  </thead>\n",
       "  <tbody>\n",
       "    <tr>\n",
       "      <th>0</th>\n",
       "      <td>1</td>\n",
       "      <td>2014-04-22 03:53:30</td>\n",
       "      <td>Clausen August</td>\n",
       "      <td>AugustCClausen@yahoo.com</td>\n",
       "      <td>GUEST_INVITE</td>\n",
       "      <td>1.398139e+09</td>\n",
       "      <td>1</td>\n",
       "      <td>0</td>\n",
       "      <td>11</td>\n",
       "      <td>10803.0</td>\n",
       "    </tr>\n",
       "    <tr>\n",
       "      <th>1</th>\n",
       "      <td>2</td>\n",
       "      <td>2013-11-15 03:45:04</td>\n",
       "      <td>Poole Matthew</td>\n",
       "      <td>MatthewPoole@gustr.com</td>\n",
       "      <td>ORG_INVITE</td>\n",
       "      <td>1.396238e+09</td>\n",
       "      <td>0</td>\n",
       "      <td>0</td>\n",
       "      <td>1</td>\n",
       "      <td>316.0</td>\n",
       "    </tr>\n",
       "    <tr>\n",
       "      <th>2</th>\n",
       "      <td>3</td>\n",
       "      <td>2013-03-19 23:14:52</td>\n",
       "      <td>Bottrill Mitchell</td>\n",
       "      <td>MitchellBottrill@gustr.com</td>\n",
       "      <td>ORG_INVITE</td>\n",
       "      <td>1.363735e+09</td>\n",
       "      <td>0</td>\n",
       "      <td>0</td>\n",
       "      <td>94</td>\n",
       "      <td>1525.0</td>\n",
       "    </tr>\n",
       "    <tr>\n",
       "      <th>3</th>\n",
       "      <td>4</td>\n",
       "      <td>2013-05-21 08:09:28</td>\n",
       "      <td>Clausen Nicklas</td>\n",
       "      <td>NicklasSClausen@yahoo.com</td>\n",
       "      <td>GUEST_INVITE</td>\n",
       "      <td>1.369210e+09</td>\n",
       "      <td>0</td>\n",
       "      <td>0</td>\n",
       "      <td>1</td>\n",
       "      <td>5151.0</td>\n",
       "    </tr>\n",
       "    <tr>\n",
       "      <th>4</th>\n",
       "      <td>5</td>\n",
       "      <td>2013-01-17 10:14:20</td>\n",
       "      <td>Raw Grace</td>\n",
       "      <td>GraceRaw@yahoo.com</td>\n",
       "      <td>GUEST_INVITE</td>\n",
       "      <td>1.358850e+09</td>\n",
       "      <td>0</td>\n",
       "      <td>0</td>\n",
       "      <td>193</td>\n",
       "      <td>5240.0</td>\n",
       "    </tr>\n",
       "  </tbody>\n",
       "</table>\n",
       "</div>"
      ],
      "text/plain": [
       "   object_id       creation_time               name  \\\n",
       "0          1 2014-04-22 03:53:30     Clausen August   \n",
       "1          2 2013-11-15 03:45:04      Poole Matthew   \n",
       "2          3 2013-03-19 23:14:52  Bottrill Mitchell   \n",
       "3          4 2013-05-21 08:09:28    Clausen Nicklas   \n",
       "4          5 2013-01-17 10:14:20          Raw Grace   \n",
       "\n",
       "                        email creation_source  last_session_creation_time  \\\n",
       "0    AugustCClausen@yahoo.com    GUEST_INVITE                1.398139e+09   \n",
       "1      MatthewPoole@gustr.com      ORG_INVITE                1.396238e+09   \n",
       "2  MitchellBottrill@gustr.com      ORG_INVITE                1.363735e+09   \n",
       "3   NicklasSClausen@yahoo.com    GUEST_INVITE                1.369210e+09   \n",
       "4          GraceRaw@yahoo.com    GUEST_INVITE                1.358850e+09   \n",
       "\n",
       "   opted_in_to_mailing_list  enabled_for_marketing_drip  org_id  \\\n",
       "0                         1                           0      11   \n",
       "1                         0                           0       1   \n",
       "2                         0                           0      94   \n",
       "3                         0                           0       1   \n",
       "4                         0                           0     193   \n",
       "\n",
       "   invited_by_user_id  \n",
       "0             10803.0  \n",
       "1               316.0  \n",
       "2              1525.0  \n",
       "3              5151.0  \n",
       "4              5240.0  "
      ]
     },
     "execution_count": 4,
     "metadata": {},
     "output_type": "execute_result"
    }
   ],
   "source": [
    "print(len(users))\n",
    "print(users.dtypes)\n",
    "users.head()"
   ]
  },
  {
   "cell_type": "code",
   "execution_count": 5,
   "id": "eb0f14ae",
   "metadata": {},
   "outputs": [
    {
     "name": "stdout",
     "output_type": "stream",
     "text": [
      "object_id                              int64\n",
      "creation_time                 datetime64[ns]\n",
      "name                                  object\n",
      "email                                 object\n",
      "creation_source                       object\n",
      "last_session_creation_time    datetime64[ns]\n",
      "opted_in_to_mailing_list               int64\n",
      "enabled_for_marketing_drip             int64\n",
      "org_id                                 int64\n",
      "invited_by_user_id                   float64\n",
      "dtype: object\n"
     ]
    }
   ],
   "source": [
    "users['last_session_creation_time'] = pd.to_datetime(users['last_session_creation_time'],unit='s')\n",
    "print(users.dtypes)"
   ]
  },
  {
   "cell_type": "code",
   "execution_count": 6,
   "id": "a9282d3a",
   "metadata": {},
   "outputs": [
    {
     "name": "stdout",
     "output_type": "stream",
     "text": [
      "object_id                        0\n",
      "creation_time                    0\n",
      "name                             0\n",
      "email                            0\n",
      "creation_source                  0\n",
      "last_session_creation_time    3177\n",
      "opted_in_to_mailing_list         0\n",
      "enabled_for_marketing_drip       0\n",
      "org_id                           0\n",
      "invited_by_user_id            5583\n",
      "dtype: int64\n",
      "time_stamp    0\n",
      "user_id       0\n",
      "visited       0\n",
      "dtype: int64\n"
     ]
    }
   ],
   "source": [
    "print(users.isna().sum())\n",
    "print(user_engagement.isna().sum())"
   ]
  },
  {
   "cell_type": "code",
   "execution_count": 7,
   "id": "ca9d6adc",
   "metadata": {},
   "outputs": [
    {
     "name": "stdout",
     "output_type": "stream",
     "text": [
      "object_id                     0\n",
      "creation_time                 0\n",
      "name                          0\n",
      "email                         0\n",
      "creation_source               0\n",
      "last_session_creation_time    0\n",
      "opted_in_to_mailing_list      0\n",
      "enabled_for_marketing_drip    0\n",
      "org_id                        0\n",
      "invited_by_user_id            0\n",
      "dtype: int64\n",
      "   object_id       creation_time               name  \\\n",
      "0          1 2014-04-22 03:53:30     Clausen August   \n",
      "1          2 2013-11-15 03:45:04      Poole Matthew   \n",
      "2          3 2013-03-19 23:14:52  Bottrill Mitchell   \n",
      "3          4 2013-05-21 08:09:28    Clausen Nicklas   \n",
      "4          5 2013-01-17 10:14:20          Raw Grace   \n",
      "\n",
      "                        email creation_source last_session_creation_time  \\\n",
      "0    AugustCClausen@yahoo.com    GUEST_INVITE        2014-04-22 03:53:30   \n",
      "1      MatthewPoole@gustr.com      ORG_INVITE        2014-03-31 03:45:04   \n",
      "2  MitchellBottrill@gustr.com      ORG_INVITE        2013-03-19 23:14:52   \n",
      "3   NicklasSClausen@yahoo.com    GUEST_INVITE        2013-05-22 08:09:28   \n",
      "4          GraceRaw@yahoo.com    GUEST_INVITE        2013-01-22 10:14:20   \n",
      "\n",
      "   opted_in_to_mailing_list  enabled_for_marketing_drip  org_id  \\\n",
      "0                         1                           0      11   \n",
      "1                         0                           0       1   \n",
      "2                         0                           0      94   \n",
      "3                         0                           0       1   \n",
      "4                         0                           0     193   \n",
      "\n",
      "   invited_by_user_id  \n",
      "0             10803.0  \n",
      "1               316.0  \n",
      "2              1525.0  \n",
      "3              5151.0  \n",
      "4              5240.0  \n"
     ]
    }
   ],
   "source": [
    "users['invited_by_user_id']= users['invited_by_user_id'].fillna(0)\n",
    "users['last_session_creation_time']= users['last_session_creation_time'].fillna(users['creation_time'])\n",
    "print(users.isna().sum())\n",
    "print(users.head())"
   ]
  },
  {
   "cell_type": "code",
   "execution_count": 8,
   "id": "8664e076",
   "metadata": {},
   "outputs": [
    {
     "name": "stdout",
     "output_type": "stream",
     "text": [
      "5     1455\n",
      "3     1177\n",
      "4     1169\n",
      "1     1029\n",
      "11     936\n",
      "2      934\n",
      "12     930\n",
      "10     924\n",
      "9      901\n",
      "7      852\n",
      "8      852\n",
      "6      841\n",
      "Name: month, dtype: int64\n"
     ]
    },
    {
     "data": {
      "text/plain": [
       "<AxesSubplot: >"
      ]
     },
     "execution_count": 8,
     "metadata": {},
     "output_type": "execute_result"
    },
    {
     "data": {
      "image/png": "[encoded data removed]",
      "text/plain": [
       "<Figure size 640x480 with 1 Axes>"
      ]
     },
     "metadata": {},
     "output_type": "display_data"
    }
   ],
   "source": [
    "#extract day, month, year from datetime column 'creation_time'\n",
    "users['month']= users['creation_time'].dt.month\n",
    "users['year']= users['creation_time'].dt.year\n",
    "\n",
    "#barplot to explore how many values for each month for creation time\n",
    "print(users.month.value_counts())\n",
    "users.month.value_counts().plot(kind='barh')"
   ]
  },
  {
   "cell_type": "code",
   "execution_count": 9,
   "id": "5d206c7b",
   "metadata": {},
   "outputs": [
    {
     "name": "stdout",
     "output_type": "stream",
     "text": [
      "2013    5676\n",
      "2014    3527\n",
      "2012    2797\n",
      "Name: year, dtype: int64\n"
     ]
    },
    {
     "data": {
      "text/plain": [
       "<AxesSubplot: >"
      ]
     },
     "execution_count": 9,
     "metadata": {},
     "output_type": "execute_result"
    },
    {
     "data": {
      "image/png": "[encoded data removed]",
      "text/plain": [
       "<Figure size 640x480 with 1 Axes>"
      ]
     },
     "metadata": {},
     "output_type": "display_data"
    }
   ],
   "source": [
    "#barplot to explore how many values for each year for creation time\n",
    "print(users.year.value_counts())\n",
    "users.year.value_counts().plot(kind='barh')"
   ]
  },
  {
   "cell_type": "code",
   "execution_count": 10,
   "id": "80b25fa6",
   "metadata": {},
   "outputs": [
    {
     "name": "stdout",
     "output_type": "stream",
     "text": [
      "ORG_INVITE            4254\n",
      "GUEST_INVITE          2163\n",
      "PERSONAL_PROJECTS     2111\n",
      "SIGNUP                2087\n",
      "SIGNUP_GOOGLE_AUTH    1385\n",
      "Name: creation_source, dtype: int64\n"
     ]
    },
    {
     "data": {
      "text/plain": [
       "<AxesSubplot: >"
      ]
     },
     "execution_count": 10,
     "metadata": {},
     "output_type": "execute_result"
    },
    {
     "data": {
      "image/png": "[encoded data removed]",
      "text/plain": [
       "<Figure size 640x480 with 1 Axes>"
      ]
     },
     "metadata": {},
     "output_type": "display_data"
    }
   ],
   "source": [
    "#barplot to explore how many values for each year for creation_source\n",
    "print(users.creation_source.value_counts())\n",
    "users.creation_source.value_counts().plot(kind='barh')"
   ]
  },
  {
   "cell_type": "markdown",
   "id": "762f6005",
   "metadata": {},
   "source": [
    "# Feature Engineering"
   ]
  },
  {
   "cell_type": "code",
   "execution_count": 11,
   "id": "450ba05b",
   "metadata": {},
   "outputs": [
    {
     "name": "stdout",
     "output_type": "stream",
     "text": [
      "   object_id       creation_time               name  \\\n",
      "0          1 2014-04-22 03:53:30     Clausen August   \n",
      "1          2 2013-11-15 03:45:04      Poole Matthew   \n",
      "2          3 2013-03-19 23:14:52  Bottrill Mitchell   \n",
      "3          4 2013-05-21 08:09:28    Clausen Nicklas   \n",
      "4          5 2013-01-17 10:14:20          Raw Grace   \n",
      "\n",
      "                        email creation_source last_session_creation_time  \\\n",
      "0    AugustCClausen@yahoo.com    GUEST_INVITE        2014-04-22 03:53:30   \n",
      "1      MatthewPoole@gustr.com      ORG_INVITE        2014-03-31 03:45:04   \n",
      "2  MitchellBottrill@gustr.com      ORG_INVITE        2013-03-19 23:14:52   \n",
      "3   NicklasSClausen@yahoo.com    GUEST_INVITE        2013-05-22 08:09:28   \n",
      "4          GraceRaw@yahoo.com    GUEST_INVITE        2013-01-22 10:14:20   \n",
      "\n",
      "   opted_in_to_mailing_list  enabled_for_marketing_drip  org_id  \\\n",
      "0                         1                           0      11   \n",
      "1                         0                           0       1   \n",
      "2                         0                           0      94   \n",
      "3                         0                           0       1   \n",
      "4                         0                           0     193   \n",
      "\n",
      "   invited_by_user_id  month  year     domain  \n",
      "0             10803.0      4  2014  yahoo.com  \n",
      "1               316.0     11  2013  gustr.com  \n",
      "2              1525.0      3  2013  gustr.com  \n",
      "3              5151.0      5  2013  yahoo.com  \n",
      "4              5240.0      1  2013  yahoo.com  \n",
      "gmail.com         3562\n",
      "yahoo.com         2447\n",
      "jourrapide.com    1259\n",
      "cuvox.de          1202\n",
      "gustr.com         1179\n",
      "                  ... \n",
      "lrabg.com            1\n",
      "mrytw.com            1\n",
      "ugtav.com            1\n",
      "hqhll.com            1\n",
      "iuxiw.com            1\n",
      "Name: domain, Length: 1184, dtype: int64\n"
     ]
    }
   ],
   "source": [
    "#create new column by domain name from email\n",
    "users['domain']=users['email'].str.split('@').str[1]\n",
    "print(users.head())\n",
    "print(users.domain.value_counts())"
   ]
  },
  {
   "cell_type": "code",
   "execution_count": 12,
   "id": "fd2115e4",
   "metadata": {},
   "outputs": [],
   "source": [
    "def convert_to_top_values(df, column_name):\n",
    "    # Find the top 10 most frequent values in the specified column\n",
    "    top_values = df[column_name].value_counts().nlargest(10).index.tolist()\n",
    "    \n",
    "    # Replace values not in the top 10 with 'other'\n",
    "    df[column_name] = df[column_name].apply(lambda x: x if x in top_values else 'other')\n",
    "    \n",
    "    return df"
   ]
  },
  {
   "cell_type": "code",
   "execution_count": 13,
   "id": "79bad001",
   "metadata": {},
   "outputs": [
    {
     "name": "stdout",
     "output_type": "stream",
     "text": [
      "   object_id       creation_time               name  \\\n",
      "0          1 2014-04-22 03:53:30     Clausen August   \n",
      "1          2 2013-11-15 03:45:04      Poole Matthew   \n",
      "2          3 2013-03-19 23:14:52  Bottrill Mitchell   \n",
      "3          4 2013-05-21 08:09:28    Clausen Nicklas   \n",
      "4          5 2013-01-17 10:14:20          Raw Grace   \n",
      "\n",
      "                        email creation_source last_session_creation_time  \\\n",
      "0    AugustCClausen@yahoo.com    GUEST_INVITE        2014-04-22 03:53:30   \n",
      "1      MatthewPoole@gustr.com      ORG_INVITE        2014-03-31 03:45:04   \n",
      "2  MitchellBottrill@gustr.com      ORG_INVITE        2013-03-19 23:14:52   \n",
      "3   NicklasSClausen@yahoo.com    GUEST_INVITE        2013-05-22 08:09:28   \n",
      "4          GraceRaw@yahoo.com    GUEST_INVITE        2013-01-22 10:14:20   \n",
      "\n",
      "   opted_in_to_mailing_list  enabled_for_marketing_drip  org_id  \\\n",
      "0                         1                           0      11   \n",
      "1                         0                           0       1   \n",
      "2                         0                           0      94   \n",
      "3                         0                           0       1   \n",
      "4                         0                           0     193   \n",
      "\n",
      "   invited_by_user_id  month  year     domain  \n",
      "0             10803.0      4  2014  yahoo.com  \n",
      "1               316.0     11  2013  gustr.com  \n",
      "2              1525.0      3  2013  gustr.com  \n",
      "3              5151.0      5  2013  yahoo.com  \n",
      "4              5240.0      1  2013  yahoo.com  \n"
     ]
    }
   ],
   "source": [
    "#only keep the top 10 values for domain name and rest goes to 'other'\n",
    "users1 = convert_to_top_values(users, 'domain')\n",
    "print(users1.head())"
   ]
  },
  {
   "cell_type": "code",
   "execution_count": 14,
   "id": "1a8de5f5",
   "metadata": {},
   "outputs": [],
   "source": [
    "#creating a function to find top 10 values and anything else becomes 0\n",
    "def convert_to_top_values_numbers(df, column_name):\n",
    "    # Find the top 10 most frequent values in the specified column\n",
    "    top_values = df[column_name].value_counts().nlargest(10).index.tolist()\n",
    "    \n",
    "    # Replace values not in the top 10 with 0\n",
    "    df[column_name] = df[column_name].apply(lambda x: x if x in top_values else 0)\n",
    "    \n",
    "    return df"
   ]
  },
  {
   "cell_type": "code",
   "execution_count": 15,
   "id": "c74615eb",
   "metadata": {},
   "outputs": [
    {
     "name": "stdout",
     "output_type": "stream",
     "text": [
      "   object_id       creation_time               name  \\\n",
      "0          1 2014-04-22 03:53:30     Clausen August   \n",
      "1          2 2013-11-15 03:45:04      Poole Matthew   \n",
      "2          3 2013-03-19 23:14:52  Bottrill Mitchell   \n",
      "3          4 2013-05-21 08:09:28    Clausen Nicklas   \n",
      "4          5 2013-01-17 10:14:20          Raw Grace   \n",
      "\n",
      "                        email creation_source last_session_creation_time  \\\n",
      "0    AugustCClausen@yahoo.com    GUEST_INVITE        2014-04-22 03:53:30   \n",
      "1      MatthewPoole@gustr.com      ORG_INVITE        2014-03-31 03:45:04   \n",
      "2  MitchellBottrill@gustr.com      ORG_INVITE        2013-03-19 23:14:52   \n",
      "3   NicklasSClausen@yahoo.com    GUEST_INVITE        2013-05-22 08:09:28   \n",
      "4          GraceRaw@yahoo.com    GUEST_INVITE        2013-01-22 10:14:20   \n",
      "\n",
      "   opted_in_to_mailing_list  enabled_for_marketing_drip  org_id  \\\n",
      "0                         1                           0       0   \n",
      "1                         0                           0       1   \n",
      "2                         0                           0       0   \n",
      "3                         0                           0       1   \n",
      "4                         0                           0       0   \n",
      "\n",
      "   invited_by_user_id  month  year     domain  \n",
      "0             10803.0      4  2014  yahoo.com  \n",
      "1               316.0     11  2013  gustr.com  \n",
      "2              1525.0      3  2013  gustr.com  \n",
      "3              5151.0      5  2013  yahoo.com  \n",
      "4              5240.0      1  2013  yahoo.com  \n"
     ]
    }
   ],
   "source": [
    "users1 = convert_to_top_values_numbers(users1, 'org_id')\n",
    "print(users1.head())"
   ]
  },
  {
   "cell_type": "code",
   "execution_count": 16,
   "id": "adb2f645",
   "metadata": {},
   "outputs": [
    {
     "name": "stdout",
     "output_type": "stream",
     "text": [
      "       object_id       creation_time               name  \\\n",
      "0              1 2014-04-22 03:53:30     Clausen August   \n",
      "1              2 2013-11-15 03:45:04      Poole Matthew   \n",
      "2              3 2013-03-19 23:14:52  Bottrill Mitchell   \n",
      "3              4 2013-05-21 08:09:28    Clausen Nicklas   \n",
      "4              5 2013-01-17 10:14:20          Raw Grace   \n",
      "...          ...                 ...                ...   \n",
      "11995      11996 2013-09-06 06:14:15       Meier Sophia   \n",
      "11996      11997 2013-01-10 18:28:37      Fisher Amelie   \n",
      "11997      11998 2014-04-27 12:45:16        Haynes Jake   \n",
      "11998      11999 2012-05-31 11:55:59       Faber Annett   \n",
      "11999      12000 2014-01-26 08:57:12         Lima Thaís   \n",
      "\n",
      "                            email     creation_source  \\\n",
      "0        AugustCClausen@yahoo.com        GUEST_INVITE   \n",
      "1          MatthewPoole@gustr.com          ORG_INVITE   \n",
      "2      MitchellBottrill@gustr.com          ORG_INVITE   \n",
      "3       NicklasSClausen@yahoo.com        GUEST_INVITE   \n",
      "4              GraceRaw@yahoo.com        GUEST_INVITE   \n",
      "...                           ...                 ...   \n",
      "11995       SophiaMeier@gustr.com          ORG_INVITE   \n",
      "11996      AmelieFisher@gmail.com  SIGNUP_GOOGLE_AUTH   \n",
      "11997         JakeHaynes@cuvox.de        GUEST_INVITE   \n",
      "11998          mhaerzxp@iuxiw.com   PERSONAL_PROJECTS   \n",
      "11999   ThaisMeloLima@hotmail.com              SIGNUP   \n",
      "\n",
      "      last_session_creation_time  opted_in_to_mailing_list  \\\n",
      "0            2014-04-22 03:53:30                         1   \n",
      "1            2014-03-31 03:45:04                         0   \n",
      "2            2013-03-19 23:14:52                         0   \n",
      "3            2013-05-22 08:09:28                         0   \n",
      "4            2013-01-22 10:14:20                         0   \n",
      "...                          ...                       ...   \n",
      "11995        2013-09-06 06:14:15                         0   \n",
      "11996        2013-01-15 18:28:37                         0   \n",
      "11997        2014-04-27 12:45:16                         1   \n",
      "11998        2012-06-02 11:55:59                         0   \n",
      "11999        2014-01-26 08:57:12                         0   \n",
      "\n",
      "       enabled_for_marketing_drip  org_id  invited_by_user_id  month  year  \\\n",
      "0                               0       0             10803.0      4  2014   \n",
      "1                               0       1               316.0     11  2013   \n",
      "2                               0       0              1525.0      3  2013   \n",
      "3                               0       1              5151.0      5  2013   \n",
      "4                               0       0              5240.0      1  2013   \n",
      "...                           ...     ...                 ...    ...   ...   \n",
      "11995                           0       0              8263.0      9  2013   \n",
      "11996                           0       0                 0.0      1  2013   \n",
      "11997                           1       0              8074.0      4  2014   \n",
      "11998                           0       6                 0.0      5  2012   \n",
      "11999                           1       0                 0.0      1  2014   \n",
      "\n",
      "            domain  active  \n",
      "0        yahoo.com       0  \n",
      "1        gustr.com       0  \n",
      "2        gustr.com       0  \n",
      "3        yahoo.com       0  \n",
      "4        yahoo.com       0  \n",
      "...            ...     ...  \n",
      "11995    gustr.com       0  \n",
      "11996    gmail.com       0  \n",
      "11997     cuvox.de       0  \n",
      "11998        other       0  \n",
      "11999  hotmail.com       0  \n",
      "\n",
      "[12000 rows x 14 columns]\n"
     ]
    }
   ],
   "source": [
    "from datetime import timedelta\n",
    "\n",
    "def mark_active(row, engage):\n",
    "    user_id = row['object_id']\n",
    "    #\n",
    "    df_temp = engage.loc[engage['user_id'] == user_id].set_index('time_stamp').resample('D').count() #'D' for daily option\n",
    "    active = any((df_temp.index[i + 2] - df_temp.index[i] <= timedelta(days=7)) and sum(df_temp['user_id'][i:i+3]) >= 3 for i in range(len(df_temp) - 2))\n",
    "    return int(active)\n",
    "\n",
    "users1['active'] = users1.apply(mark_active, axis=1, engage=user_engagement)\n",
    "\n",
    "print(users1)\n"
   ]
  },
  {
   "cell_type": "code",
   "execution_count": 17,
   "id": "05d99e35",
   "metadata": {},
   "outputs": [
    {
     "name": "stdout",
     "output_type": "stream",
     "text": [
      "0    10778\n",
      "1     1222\n",
      "Name: active, dtype: int64\n",
      "0.11337910558545185\n"
     ]
    }
   ],
   "source": [
    "print(users1.active.value_counts())\n",
    "print(1222/10778)"
   ]
  },
  {
   "cell_type": "code",
   "execution_count": 18,
   "id": "3e16d60b",
   "metadata": {},
   "outputs": [
    {
     "name": "stdout",
     "output_type": "stream",
     "text": [
      "   object_id       creation_time               name  \\\n",
      "0          1 2014-04-22 03:53:30     Clausen August   \n",
      "1          2 2013-11-15 03:45:04      Poole Matthew   \n",
      "2          3 2013-03-19 23:14:52  Bottrill Mitchell   \n",
      "3          4 2013-05-21 08:09:28    Clausen Nicklas   \n",
      "4          5 2013-01-17 10:14:20          Raw Grace   \n",
      "\n",
      "                        email creation_source last_session_creation_time  \\\n",
      "0    AugustCClausen@yahoo.com    GUEST_INVITE        2014-04-22 03:53:30   \n",
      "1      MatthewPoole@gustr.com      ORG_INVITE        2014-03-31 03:45:04   \n",
      "2  MitchellBottrill@gustr.com      ORG_INVITE        2013-03-19 23:14:52   \n",
      "3   NicklasSClausen@yahoo.com    GUEST_INVITE        2013-05-22 08:09:28   \n",
      "4          GraceRaw@yahoo.com    GUEST_INVITE        2013-01-22 10:14:20   \n",
      "\n",
      "   opted_in_to_mailing_list  enabled_for_marketing_drip  org_id  \\\n",
      "0                         1                           0       0   \n",
      "1                         0                           0       1   \n",
      "2                         0                           0       0   \n",
      "3                         0                           0       1   \n",
      "4                         0                           0       0   \n",
      "\n",
      "   invited_by_user_id  month  year     domain  active length_of_user  \n",
      "0             10803.0      4  2014  yahoo.com       0         0 days  \n",
      "1               316.0     11  2013  gustr.com       0       136 days  \n",
      "2              1525.0      3  2013  gustr.com       0         0 days  \n",
      "3              5151.0      5  2013  yahoo.com       0         1 days  \n",
      "4              5240.0      1  2013  yahoo.com       0         5 days  \n"
     ]
    },
    {
     "data": {
      "text/plain": [
       "object_id                               int64\n",
       "creation_time                  datetime64[ns]\n",
       "name                                   object\n",
       "email                                  object\n",
       "creation_source                        object\n",
       "last_session_creation_time     datetime64[ns]\n",
       "opted_in_to_mailing_list                int64\n",
       "enabled_for_marketing_drip              int64\n",
       "org_id                                  int64\n",
       "invited_by_user_id                    float64\n",
       "month                                   int64\n",
       "year                                    int64\n",
       "domain                                 object\n",
       "active                                  int64\n",
       "length_of_user                timedelta64[ns]\n",
       "dtype: object"
      ]
     },
     "execution_count": 18,
     "metadata": {},
     "output_type": "execute_result"
    }
   ],
   "source": [
    "users1['length_of_user'] = users1['last_session_creation_time'] - users1['creation_time']\n",
    "print(users1.head())\n",
    "users1.dtypes"
   ]
  },
  {
   "cell_type": "code",
   "execution_count": 19,
   "id": "dcb4f4d3",
   "metadata": {},
   "outputs": [
    {
     "name": "stdout",
     "output_type": "stream",
     "text": [
      "object_id                               int64\n",
      "creation_time                  datetime64[ns]\n",
      "name                                   object\n",
      "email                                  object\n",
      "creation_source                      category\n",
      "last_session_creation_time     datetime64[ns]\n",
      "opted_in_to_mailing_list                int64\n",
      "enabled_for_marketing_drip              int64\n",
      "org_id                               category\n",
      "invited_by_user_id                    float64\n",
      "month                                   int64\n",
      "year                                    int64\n",
      "domain                               category\n",
      "active                                  int64\n",
      "length_of_user                timedelta64[ns]\n",
      "number_of_days                          int64\n",
      "dtype: object\n"
     ]
    },
    {
     "data": {
      "text/plain": [
       "Index(['object_id', 'creation_time', 'name', 'email', 'creation_source',\n",
       "       'last_session_creation_time', 'opted_in_to_mailing_list',\n",
       "       'enabled_for_marketing_drip', 'org_id', 'invited_by_user_id', 'month',\n",
       "       'year', 'domain', 'active', 'length_of_user', 'number_of_days'],\n",
       "      dtype='object')"
      ]
     },
     "execution_count": 19,
     "metadata": {},
     "output_type": "execute_result"
    }
   ],
   "source": [
    "users1['creation_source'] = users1.creation_source.astype('category')\n",
    "users1['domain']= users1.domain.astype('category')\n",
    "users1['org_id']= users1.org_id.astype('category')\n",
    "users1['number_of_days'] = users1['length_of_user'].dt.days\n",
    "print(users1.dtypes)\n",
    "users1.columns"
   ]
  },
  {
   "cell_type": "code",
   "execution_count": 20,
   "id": "49e4135b",
   "metadata": {},
   "outputs": [],
   "source": [
    "users = users1[['org_id', 'creation_source', 'domain', 'opted_in_to_mailing_list', \n",
    "                'enabled_for_marketing_drip', 'month', 'year', 'number_of_days', 'active']]"
   ]
  },
  {
   "cell_type": "code",
   "execution_count": 21,
   "id": "55de124b",
   "metadata": {},
   "outputs": [
    {
     "data": {
      "text/plain": [
       "org_id                        category\n",
       "creation_source               category\n",
       "domain                        category\n",
       "opted_in_to_mailing_list         int64\n",
       "enabled_for_marketing_drip       int64\n",
       "month                            int64\n",
       "year                             int64\n",
       "number_of_days                   int64\n",
       "active                           int64\n",
       "dtype: object"
      ]
     },
     "execution_count": 21,
     "metadata": {},
     "output_type": "execute_result"
    }
   ],
   "source": [
    "users.dtypes"
   ]
  },
  {
   "cell_type": "code",
   "execution_count": 22,
   "id": "aa1bcd64",
   "metadata": {},
   "outputs": [
    {
     "name": "stderr",
     "output_type": "stream",
     "text": [
      "/var/folders/5n/xfdq9pv147x25d8d7_s4c24c0000gn/T/ipykernel_18448/3986769641.py:4: SettingWithCopyWarning: \n",
      "A value is trying to be set on a copy of a slice from a DataFrame.\n",
      "Try using .loc[row_indexer,col_indexer] = value instead\n",
      "\n",
      "See the caveats in the documentation: https://pandas.pydata.org/pandas-docs/stable/user_guide/indexing.html#returning-a-view-versus-a-copy\n",
      "  users['org_id']= label_encoder.fit_transform(users['org_id'])\n",
      "/var/folders/5n/xfdq9pv147x25d8d7_s4c24c0000gn/T/ipykernel_18448/3986769641.py:5: SettingWithCopyWarning: \n",
      "A value is trying to be set on a copy of a slice from a DataFrame.\n",
      "Try using .loc[row_indexer,col_indexer] = value instead\n",
      "\n",
      "See the caveats in the documentation: https://pandas.pydata.org/pandas-docs/stable/user_guide/indexing.html#returning-a-view-versus-a-copy\n",
      "  users['creation_source']= label_encoder.fit_transform(users['creation_source'])\n",
      "/var/folders/5n/xfdq9pv147x25d8d7_s4c24c0000gn/T/ipykernel_18448/3986769641.py:6: SettingWithCopyWarning: \n",
      "A value is trying to be set on a copy of a slice from a DataFrame.\n",
      "Try using .loc[row_indexer,col_indexer] = value instead\n",
      "\n",
      "See the caveats in the documentation: https://pandas.pydata.org/pandas-docs/stable/user_guide/indexing.html#returning-a-view-versus-a-copy\n",
      "  users['domain']= label_encoder.fit_transform(users['domain'])\n"
     ]
    }
   ],
   "source": [
    "from sklearn import preprocessing \n",
    "\n",
    "label_encoder = preprocessing.LabelEncoder()\n",
    "users['org_id']= label_encoder.fit_transform(users['org_id']) \n",
    "users['creation_source']= label_encoder.fit_transform(users['creation_source']) \n",
    "users['domain']= label_encoder.fit_transform(users['domain'])"
   ]
  },
  {
   "cell_type": "markdown",
   "id": "8ee440c5",
   "metadata": {},
   "source": [
    "# Prepare data for train- test-split"
   ]
  },
  {
   "cell_type": "code",
   "execution_count": 23,
   "id": "b1a722d6",
   "metadata": {},
   "outputs": [],
   "source": [
    "from sklearn.model_selection import train_test_split, cross_validate, GridSearchCV, learning_curve, cross_val_score\n",
    "from sklearn.metrics import classification_report, confusion_matrix, ConfusionMatrixDisplay, roc_auc_score, roc_curve\n",
    "import xgboost as xgb\n",
    "from xgboost import XGBClassifier\n",
    "from hyperopt import fmin, tpe, hp, Trials, STATUS_OK\n",
    "from imblearn.over_sampling import SMOTE\n",
    "from imblearn.under_sampling import RandomUnderSampler\n",
    "from sklearn.ensemble import RandomForestClassifier "
   ]
  },
  {
   "cell_type": "code",
   "execution_count": 24,
   "id": "d9303594",
   "metadata": {},
   "outputs": [],
   "source": [
    "#create X, y to be used in the train-test-split arguments\n",
    "X= users.drop('active', axis=1)\n",
    "y= users['active']"
   ]
  },
  {
   "cell_type": "code",
   "execution_count": 25,
   "id": "6098e5f0",
   "metadata": {},
   "outputs": [],
   "source": [
    "#undersample the zeros in data\n",
    "rus = RandomUnderSampler(random_state=0)\n",
    "X_resampled, y_resampled = rus.fit_resample(X, y)"
   ]
  },
  {
   "cell_type": "code",
   "execution_count": 26,
   "id": "12d580ad",
   "metadata": {},
   "outputs": [
    {
     "name": "stdout",
     "output_type": "stream",
     "text": [
      "0    1222\n",
      "1    1222\n",
      "Name: active, dtype: int64\n"
     ]
    },
    {
     "data": {
      "image/png": "[encoded data removed]",
      "text/plain": [
       "<Figure size 640x480 with 1 Axes>"
      ]
     },
     "metadata": {},
     "output_type": "display_data"
    }
   ],
   "source": [
    "#graphing y value counts to make sure even amount of WnvPresent and not\n",
    "y_resampled.value_counts().plot(kind='bar')\n",
    "print(y_resampled.value_counts())"
   ]
  },
  {
   "cell_type": "code",
   "execution_count": 27,
   "id": "2ac959dc",
   "metadata": {},
   "outputs": [],
   "source": [
    "#split the data to prepare it for modeling\n",
    "X_train_under, X_test_under, y_train_under, y_test_under = train_test_split(X_resampled, y_resampled, test_size=0.3, random_state=47)"
   ]
  },
  {
   "cell_type": "code",
   "execution_count": 28,
   "id": "8f2ce500",
   "metadata": {},
   "outputs": [
    {
     "name": "stdout",
     "output_type": "stream",
     "text": [
      "org_id                        int64\n",
      "creation_source               int64\n",
      "domain                        int64\n",
      "opted_in_to_mailing_list      int64\n",
      "enabled_for_marketing_drip    int64\n",
      "month                         int64\n",
      "year                          int64\n",
      "number_of_days                int64\n",
      "dtype: object\n"
     ]
    },
    {
     "data": {
      "text/plain": [
       "dtype('int64')"
      ]
     },
     "execution_count": 28,
     "metadata": {},
     "output_type": "execute_result"
    }
   ],
   "source": [
    "print(X_train_under.dtypes)\n",
    "y_train_under.dtypes"
   ]
  },
  {
   "cell_type": "markdown",
   "id": "b122bf0c",
   "metadata": {},
   "source": [
    "# Modeling"
   ]
  },
  {
   "cell_type": "code",
   "execution_count": 29,
   "id": "065b4392",
   "metadata": {},
   "outputs": [],
   "source": [
    "#creating classification metric measures\n",
    "def display_confusion_matrix(ytest, ypred, model) :\n",
    "    cm = confusion_matrix(ytest, ypred, labels=model.classes_)\n",
    "    disp = ConfusionMatrixDisplay(confusion_matrix=cm, display_labels=model.classes_)\n",
    "    disp.plot()\n",
    "    plt.show()\n",
    "def class_report(ytest, ypred) :\n",
    "    print(classification_report(ytest, ypred))\n",
    "    \n",
    "def feature_importance(model) :\n",
    "    xgb.plot_importance(model)\n",
    "    plt.rcParams['figure.figsize'] = [6, 4]\n",
    "    plt.show()"
   ]
  },
  {
   "cell_type": "markdown",
   "id": "becf3b37",
   "metadata": {},
   "source": [
    "### Model 1"
   ]
  },
  {
   "cell_type": "code",
   "execution_count": 30,
   "id": "75746885",
   "metadata": {},
   "outputs": [],
   "source": [
    "#setting the base model for XGBoost for undersampling base model\n",
    "model_1 = xgb.XGBClassifier()\n",
    "model_1.fit(X_train_under, y_train_under)\n",
    "\n",
    "#use model to predict y values on X_test set\n",
    "y_pred_under = model_1.predict(X_test_under)"
   ]
  },
  {
   "cell_type": "code",
   "execution_count": 32,
   "id": "a3d930b0",
   "metadata": {},
   "outputs": [
    {
     "name": "stdout",
     "output_type": "stream",
     "text": [
      "Model 2 ROC AUC score: 0.9687\n"
     ]
    },
    {
     "data": {
      "image/png": "[encoded data removed]",
      "text/plain": [
       "<Figure size 640x480 with 2 Axes>"
      ]
     },
     "metadata": {},
     "output_type": "display_data"
    },
    {
     "name": "stdout",
     "output_type": "stream",
     "text": [
      "              precision    recall  f1-score   support\n",
      "\n",
      "           0       0.97      0.97      0.97       365\n",
      "           1       0.97      0.97      0.97       369\n",
      "\n",
      "    accuracy                           0.97       734\n",
      "   macro avg       0.97      0.97      0.97       734\n",
      "weighted avg       0.97      0.97      0.97       734\n",
      "\n"
     ]
    },
    {
     "data": {
      "image/png": "[encoded data removed]",
      "text/plain": [
       "<Figure size 640x480 with 1 Axes>"
      ]
     },
     "metadata": {},
     "output_type": "display_data"
    }
   ],
   "source": [
    "#determine accuracy of model using actual y_test values and predicted y_pred values\n",
    "print('Model 2 ROC AUC score: {0:0.4f}'. format(roc_auc_score(y_test_under, y_pred_under)))\n",
    "\n",
    "#display confustion matrix for base model of XGBoost\n",
    "display_confusion_matrix(y_test_under, y_pred_under, model_1)\n",
    "\n",
    "#classification report\n",
    "class_report(y_test_under, y_pred_under)\n",
    "\n",
    "#feature importance\n",
    "feature_importance(model_1)"
   ]
  },
  {
   "cell_type": "code",
   "execution_count": 33,
   "id": "03768791",
   "metadata": {},
   "outputs": [
    {
     "data": {
      "image/png": "[encoded data removed]",
      "text/plain": [
       "<Figure size 600x400 with 1 Axes>"
      ]
     },
     "metadata": {},
     "output_type": "display_data"
    }
   ],
   "source": [
    "#graph ROC for XGBoost undersampling base model\n",
    "y_pred_prob1_under = model_1.predict_proba(X_test_under)[:,1]\n",
    "fpr1 , tpr1, thresholds1 = roc_curve(y_test_under, y_pred_prob1_under)\n",
    "\n",
    "plt.plot([0,1],[0,1], 'k--')\n",
    "plt.plot(fpr1, tpr1, label= \"Model 2\")\n",
    "plt.xlabel(\"FPR\")\n",
    "plt.ylabel(\"TPR\")\n",
    "plt.title('Receiver Operating Characteristic')\n",
    "plt.show()"
   ]
  },
  {
   "cell_type": "code",
   "execution_count": null,
   "id": "100d9bfe",
   "metadata": {},
   "outputs": [],
   "source": [
    "Model 2 Using Grid Search"
   ]
  },
  {
   "cell_type": "code",
   "execution_count": 34,
   "id": "9ef887a5",
   "metadata": {},
   "outputs": [],
   "source": [
    "#set estimator\n",
    "estimator = XGBClassifier(\n",
    "    objective= 'binary:logistic',\n",
    "    nthread=4,\n",
    "    seed=42\n",
    ")"
   ]
  },
  {
   "cell_type": "code",
   "execution_count": 35,
   "id": "9fae072a",
   "metadata": {},
   "outputs": [],
   "source": [
    "#set parameters \n",
    "parameters = {\n",
    "    'max_depth': range (2, 10, 2),\n",
    "    'n_estimators': range(120, 220, 40),\n",
    "    'learning_rate': [0.2, 0.4, 0.6],  \n",
    "    'min_child_weight' : range(2, 7, 1),\n",
    "    'colsample_bytree': [0.2, 0.5]\n",
    "}\n"
   ]
  },
  {
   "cell_type": "code",
   "execution_count": 36,
   "id": "a84c9af6",
   "metadata": {},
   "outputs": [],
   "source": [
    "#grid search with the different parameters listed above 5 cross validations\n",
    "grid_search = GridSearchCV(\n",
    "    estimator=estimator,\n",
    "    param_grid=parameters,\n",
    "    scoring = 'roc_auc',\n",
    "    n_jobs = 10,\n",
    "    cv = 5,\n",
    "    verbose=True\n",
    ")"
   ]
  },
  {
   "cell_type": "code",
   "execution_count": 38,
   "id": "35221053",
   "metadata": {},
   "outputs": [
    {
     "name": "stdout",
     "output_type": "stream",
     "text": [
      "Fitting 5 folds for each of 360 candidates, totalling 1800 fits\n"
     ]
    },
    {
     "data": {
      "text/html": [
       "<style>#sk-container-id-1 {color: black;background-color: white;}#sk-container-id-1 pre{padding: 0;}#sk-container-id-1 div.sk-toggleable {background-color: white;}#sk-container-id-1 label.sk-toggleable__label {cursor: pointer;display: block;width: 100%;margin-bottom: 0;padding: 0.3em;box-sizing: border-box;text-align: center;}#sk-container-id-1 label.sk-toggleable__label-arrow:before {content: \"▸\";float: left;margin-right: 0.25em;color: #696969;}#sk-container-id-1 label.sk-toggleable__label-arrow:hover:before {color: black;}#sk-container-id-1 div.sk-estimator:hover label.sk-toggleable__label-arrow:before {color: black;}#sk-container-id-1 div.sk-toggleable__content {max-height: 0;max-width: 0;overflow: hidden;text-align: left;background-color: #f0f8ff;}#sk-container-id-1 div.sk-toggleable__content pre {margin: 0.2em;color: black;border-radius: 0.25em;background-color: #f0f8ff;}#sk-container-id-1 input.sk-toggleable__control:checked~div.sk-toggleable__content {max-height: 200px;max-width: 100%;overflow: auto;}#sk-container-id-1 input.sk-toggleable__control:checked~label.sk-toggleable__label-arrow:before {content: \"▾\";}#sk-container-id-1 div.sk-estimator input.sk-toggleable__control:checked~label.sk-toggleable__label {background-color: #d4ebff;}#sk-container-id-1 div.sk-label input.sk-toggleable__control:checked~label.sk-toggleable__label {background-color: #d4ebff;}#sk-container-id-1 input.sk-hidden--visually {border: 0;clip: rect(1px 1px 1px 1px);clip: rect(1px, 1px, 1px, 1px);height: 1px;margin: -1px;overflow: hidden;padding: 0;position: absolute;width: 1px;}#sk-container-id-1 div.sk-estimator {font-family: monospace;background-color: #f0f8ff;border: 1px dotted black;border-radius: 0.25em;box-sizing: border-box;margin-bottom: 0.5em;}#sk-container-id-1 div.sk-estimator:hover {background-color: #d4ebff;}#sk-container-id-1 div.sk-parallel-item::after {content: \"\";width: 100%;border-bottom: 1px solid gray;flex-grow: 1;}#sk-container-id-1 div.sk-label:hover label.sk-toggleable__label {background-color: #d4ebff;}#sk-container-id-1 div.sk-serial::before {content: \"\";position: absolute;border-left: 1px solid gray;box-sizing: border-box;top: 0;bottom: 0;left: 50%;z-index: 0;}#sk-container-id-1 div.sk-serial {display: flex;flex-direction: column;align-items: center;background-color: white;padding-right: 0.2em;padding-left: 0.2em;position: relative;}#sk-container-id-1 div.sk-item {position: relative;z-index: 1;}#sk-container-id-1 div.sk-parallel {display: flex;align-items: stretch;justify-content: center;background-color: white;position: relative;}#sk-container-id-1 div.sk-item::before, #sk-container-id-1 div.sk-parallel-item::before {content: \"\";position: absolute;border-left: 1px solid gray;box-sizing: border-box;top: 0;bottom: 0;left: 50%;z-index: -1;}#sk-container-id-1 div.sk-parallel-item {display: flex;flex-direction: column;z-index: 1;position: relative;background-color: white;}#sk-container-id-1 div.sk-parallel-item:first-child::after {align-self: flex-end;width: 50%;}#sk-container-id-1 div.sk-parallel-item:last-child::after {align-self: flex-start;width: 50%;}#sk-container-id-1 div.sk-parallel-item:only-child::after {width: 0;}#sk-container-id-1 div.sk-dashed-wrapped {border: 1px dashed gray;margin: 0 0.4em 0.5em 0.4em;box-sizing: border-box;padding-bottom: 0.4em;background-color: white;}#sk-container-id-1 div.sk-label label {font-family: monospace;font-weight: bold;display: inline-block;line-height: 1.2em;}#sk-container-id-1 div.sk-label-container {text-align: center;}#sk-container-id-1 div.sk-container {/* jupyter's `normalize.less` sets `[hidden] { display: none; }` but bootstrap.min.css set `[hidden] { display: none !important; }` so we also need the `!important` here to be able to override the default hidden behavior on the sphinx rendered scikit-learn.org. See: https://github.com/scikit-learn/scikit-learn/issues/21755 */display: inline-block !important;position: relative;}#sk-container-id-1 div.sk-text-repr-fallback {display: none;}</style><div id=\"sk-container-id-1\" class=\"sk-top-container\"><div class=\"sk-text-repr-fallback\"><pre>GridSearchCV(cv=5,\n",
       "             estimator=XGBClassifier(base_score=None, booster=None,\n",
       "                                     callbacks=None, colsample_bylevel=None,\n",
       "                                     colsample_bynode=None,\n",
       "                                     colsample_bytree=None,\n",
       "                                     early_stopping_rounds=None,\n",
       "                                     enable_categorical=False, eval_metric=None,\n",
       "                                     feature_types=None, gamma=None,\n",
       "                                     gpu_id=None, grow_policy=None,\n",
       "                                     importance_type=None,\n",
       "                                     interaction_constraints=None,\n",
       "                                     learning_rate=None,...\n",
       "                                     max_leaves=None, min_child_weight=None,\n",
       "                                     missing=nan, monotone_constraints=None,\n",
       "                                     n_estimators=100, n_jobs=None, nthread=4,\n",
       "                                     num_parallel_tree=None, predictor=None, ...),\n",
       "             n_jobs=10,\n",
       "             param_grid={&#x27;colsample_bytree&#x27;: [0.2, 0.5],\n",
       "                         &#x27;learning_rate&#x27;: [0.2, 0.4, 0.6],\n",
       "                         &#x27;max_depth&#x27;: range(2, 10, 2),\n",
       "                         &#x27;min_child_weight&#x27;: range(2, 7),\n",
       "                         &#x27;n_estimators&#x27;: range(120, 220, 40)},\n",
       "             scoring=&#x27;roc_auc&#x27;, verbose=True)</pre><b>In a Jupyter environment, please rerun this cell to show the HTML representation or trust the notebook. <br />On GitHub, the HTML representation is unable to render, please try loading this page with nbviewer.org.</b></div><div class=\"sk-container\" hidden><div class=\"sk-item sk-dashed-wrapped\"><div class=\"sk-label-container\"><div class=\"sk-label sk-toggleable\"><input class=\"sk-toggleable__control sk-hidden--visually\" id=\"sk-estimator-id-1\" type=\"checkbox\" ><label for=\"sk-estimator-id-1\" class=\"sk-toggleable__label sk-toggleable__label-arrow\">GridSearchCV</label><div class=\"sk-toggleable__content\"><pre>GridSearchCV(cv=5,\n",
       "             estimator=XGBClassifier(base_score=None, booster=None,\n",
       "                                     callbacks=None, colsample_bylevel=None,\n",
       "                                     colsample_bynode=None,\n",
       "                                     colsample_bytree=None,\n",
       "                                     early_stopping_rounds=None,\n",
       "                                     enable_categorical=False, eval_metric=None,\n",
       "                                     feature_types=None, gamma=None,\n",
       "                                     gpu_id=None, grow_policy=None,\n",
       "                                     importance_type=None,\n",
       "                                     interaction_constraints=None,\n",
       "                                     learning_rate=None,...\n",
       "                                     max_leaves=None, min_child_weight=None,\n",
       "                                     missing=nan, monotone_constraints=None,\n",
       "                                     n_estimators=100, n_jobs=None, nthread=4,\n",
       "                                     num_parallel_tree=None, predictor=None, ...),\n",
       "             n_jobs=10,\n",
       "             param_grid={&#x27;colsample_bytree&#x27;: [0.2, 0.5],\n",
       "                         &#x27;learning_rate&#x27;: [0.2, 0.4, 0.6],\n",
       "                         &#x27;max_depth&#x27;: range(2, 10, 2),\n",
       "                         &#x27;min_child_weight&#x27;: range(2, 7),\n",
       "                         &#x27;n_estimators&#x27;: range(120, 220, 40)},\n",
       "             scoring=&#x27;roc_auc&#x27;, verbose=True)</pre></div></div></div><div class=\"sk-parallel\"><div class=\"sk-parallel-item\"><div class=\"sk-item\"><div class=\"sk-label-container\"><div class=\"sk-label sk-toggleable\"><input class=\"sk-toggleable__control sk-hidden--visually\" id=\"sk-estimator-id-2\" type=\"checkbox\" ><label for=\"sk-estimator-id-2\" class=\"sk-toggleable__label sk-toggleable__label-arrow\">estimator: XGBClassifier</label><div class=\"sk-toggleable__content\"><pre>XGBClassifier(base_score=None, booster=None, callbacks=None,\n",
       "              colsample_bylevel=None, colsample_bynode=None,\n",
       "              colsample_bytree=None, early_stopping_rounds=None,\n",
       "              enable_categorical=False, eval_metric=None, feature_types=None,\n",
       "              gamma=None, gpu_id=None, grow_policy=None, importance_type=None,\n",
       "              interaction_constraints=None, learning_rate=None, max_bin=None,\n",
       "              max_cat_threshold=None, max_cat_to_onehot=None,\n",
       "              max_delta_step=None, max_depth=None, max_leaves=None,\n",
       "              min_child_weight=None, missing=nan, monotone_constraints=None,\n",
       "              n_estimators=100, n_jobs=None, nthread=4, num_parallel_tree=None,\n",
       "              predictor=None, ...)</pre></div></div></div><div class=\"sk-serial\"><div class=\"sk-item\"><div class=\"sk-estimator sk-toggleable\"><input class=\"sk-toggleable__control sk-hidden--visually\" id=\"sk-estimator-id-3\" type=\"checkbox\" ><label for=\"sk-estimator-id-3\" class=\"sk-toggleable__label sk-toggleable__label-arrow\">XGBClassifier</label><div class=\"sk-toggleable__content\"><pre>XGBClassifier(base_score=None, booster=None, callbacks=None,\n",
       "              colsample_bylevel=None, colsample_bynode=None,\n",
       "              colsample_bytree=None, early_stopping_rounds=None,\n",
       "              enable_categorical=False, eval_metric=None, feature_types=None,\n",
       "              gamma=None, gpu_id=None, grow_policy=None, importance_type=None,\n",
       "              interaction_constraints=None, learning_rate=None, max_bin=None,\n",
       "              max_cat_threshold=None, max_cat_to_onehot=None,\n",
       "              max_delta_step=None, max_depth=None, max_leaves=None,\n",
       "              min_child_weight=None, missing=nan, monotone_constraints=None,\n",
       "              n_estimators=100, n_jobs=None, nthread=4, num_parallel_tree=None,\n",
       "              predictor=None, ...)</pre></div></div></div></div></div></div></div></div></div></div>"
      ],
      "text/plain": [
       "GridSearchCV(cv=5,\n",
       "             estimator=XGBClassifier(base_score=None, booster=None,\n",
       "                                     callbacks=None, colsample_bylevel=None,\n",
       "                                     colsample_bynode=None,\n",
       "                                     colsample_bytree=None,\n",
       "                                     early_stopping_rounds=None,\n",
       "                                     enable_categorical=False, eval_metric=None,\n",
       "                                     feature_types=None, gamma=None,\n",
       "                                     gpu_id=None, grow_policy=None,\n",
       "                                     importance_type=None,\n",
       "                                     interaction_constraints=None,\n",
       "                                     learning_rate=None,...\n",
       "                                     max_leaves=None, min_child_weight=None,\n",
       "                                     missing=nan, monotone_constraints=None,\n",
       "                                     n_estimators=100, n_jobs=None, nthread=4,\n",
       "                                     num_parallel_tree=None, predictor=None, ...),\n",
       "             n_jobs=10,\n",
       "             param_grid={'colsample_bytree': [0.2, 0.5],\n",
       "                         'learning_rate': [0.2, 0.4, 0.6],\n",
       "                         'max_depth': range(2, 10, 2),\n",
       "                         'min_child_weight': range(2, 7),\n",
       "                         'n_estimators': range(120, 220, 40)},\n",
       "             scoring='roc_auc', verbose=True)"
      ]
     },
     "execution_count": 38,
     "metadata": {},
     "output_type": "execute_result"
    }
   ],
   "source": [
    "#fit the grid search on the X_train and y_train data \n",
    "grid_search.fit(X_train_under, y_train_under)"
   ]
  },
  {
   "cell_type": "code",
   "execution_count": 43,
   "id": "0c740bb1",
   "metadata": {},
   "outputs": [
    {
     "name": "stdout",
     "output_type": "stream",
     "text": [
      "XGBClassifier(base_score=None, booster=None, callbacks=None,\n",
      "              colsample_bylevel=None, colsample_bynode=None,\n",
      "              colsample_bytree=0.2, early_stopping_rounds=None,\n",
      "              enable_categorical=False, eval_metric=None, feature_types=None,\n",
      "              gamma=None, gpu_id=None, grow_policy=None, importance_type=None,\n",
      "              interaction_constraints=None, learning_rate=0.6, max_bin=None,\n",
      "              max_cat_threshold=None, max_cat_to_onehot=None,\n",
      "              max_delta_step=None, max_depth=2, max_leaves=None,\n",
      "              min_child_weight=6, missing=nan, monotone_constraints=None,\n",
      "              n_estimators=120, n_jobs=None, nthread=4, num_parallel_tree=None,\n",
      "              predictor=None, ...)\n",
      "Model 2 ROC AUC score: 0.9741\n"
     ]
    },
    {
     "data": {
      "image/png": "[encoded data removed]",
      "text/plain": [
       "<Figure size 600x400 with 2 Axes>"
      ]
     },
     "metadata": {},
     "output_type": "display_data"
    },
    {
     "name": "stdout",
     "output_type": "stream",
     "text": [
      "              precision    recall  f1-score   support\n",
      "\n",
      "           0       0.97      0.98      0.97       365\n",
      "           1       0.98      0.97      0.97       369\n",
      "\n",
      "    accuracy                           0.97       734\n",
      "   macro avg       0.97      0.97      0.97       734\n",
      "weighted avg       0.97      0.97      0.97       734\n",
      "\n"
     ]
    }
   ],
   "source": [
    "#predict y values from X_test set\n",
    "y_pred = grid_search.predict(X_test_under)\n",
    "\n",
    "#print the best parameters from the grid search\n",
    "print(grid_search.best_estimator_)\n",
    "\n",
    "#determine accuracy of model using actual y_test values and predicted y_pred values\n",
    "print('Model 2 ROC AUC score: {0:0.4f}'. format(roc_auc_score(y_test_under, y_pred)))\n",
    "\n",
    "#display confustion matrix for base model of XGBoost\n",
    "display_confusion_matrix(y_test_under, y_pred, grid_search)\n",
    "\n",
    "#classification report\n",
    "class_report(y_test_under, y_pred)\n"
   ]
  },
  {
   "cell_type": "code",
   "execution_count": 49,
   "id": "f7ba7227",
   "metadata": {},
   "outputs": [
    {
     "data": {
      "image/png": "[encoded data removed]",
      "text/plain": [
       "<Figure size 600x400 with 1 Axes>"
      ]
     },
     "metadata": {},
     "output_type": "display_data"
    }
   ],
   "source": [
    "#ROC curve for XGBoost \n",
    "y_pred_prob1 = grid_search.predict_proba(X_test_under)[:,1]\n",
    "fpr1 , tpr1, thresholds1 = roc_curve(y_test_under, y_pred_prob1)\n",
    "\n",
    "plt.plot([0,1],[0,1], 'k--')\n",
    "plt.plot(fpr1, tpr1, label= \"Model 2\")\n",
    "plt.xlabel(\"FPR\")\n",
    "plt.ylabel(\"TPR\")\n",
    "plt.title('Receiver Operating Characteristic')\n",
    "\n",
    "\n",
    "plt.savefig(\"relax_challenge/ROC_curve.png\")"
   ]
  },
  {
   "cell_type": "code",
   "execution_count": 44,
   "id": "f97070b6",
   "metadata": {},
   "outputs": [],
   "source": [
    "#taking best parameters from grid search and applying to XGBClassifier for feature importance\n",
    "\n",
    "model_best = xgb.XGBClassifier(colsample_bytree=0.2, learning_rate=0.6, max_depth=2, n_estimators=120)\n",
    "model_best.fit(X_train_under, y_train_under)\n",
    "\n",
    "#use model to predict y values on X_test set\n",
    "y_pred_under = model_1.predict(X_test_under)"
   ]
  },
  {
   "cell_type": "code",
   "execution_count": 55,
   "id": "8083dba8",
   "metadata": {},
   "outputs": [
    {
     "data": {
      "image/png": "[encoded data removed]",
      "text/plain": [
       "<Figure size 2000x1600 with 1 Axes>"
      ]
     },
     "metadata": {},
     "output_type": "display_data"
    }
   ],
   "source": [
    "#feature importance\n",
    "xgb.plot_importance(model_best)\n",
    "plt.rcParams['figure.figsize'] = [24, 16]\n",
    " \n",
    "plt.savefig(\"relax_challenge/feature_importance.png\")"
   ]
  },
  {
   "cell_type": "code",
   "execution_count": null,
   "id": "2dcb9e72",
   "metadata": {},
   "outputs": [],
   "source": []
  }
 ],
 "metadata": {
  "kernelspec": {
   "display_name": "Python 3 (ipykernel)",
   "language": "python",
   "name": "python3"
  },
  "language_info": {
   "codemirror_mode": {
    "name": "ipython",
    "version": 3
   },
   "file_extension": ".py",
   "mimetype": "text/x-python",
   "name": "python",
   "nbconvert_exporter": "python",
   "pygments_lexer": "ipython3",
   "version": "3.10.9"
  }
 },
 "nbformat": 4,
 "nbformat_minor": 5
}
